{
 "cells": [
  {
   "cell_type": "code",
   "execution_count": 1,
   "id": "adc52e4b-0e54-4094-8254-57205b3a633c",
   "metadata": {},
   "outputs": [],
   "source": [
    "import yaml"
   ]
  },
  {
   "cell_type": "code",
   "execution_count": 5,
   "id": "819e38cb-c321-4eb6-a981-c7aa461e6ccf",
   "metadata": {},
   "outputs": [],
   "source": [
    "with open('datasets.yaml') as f:\n",
    "    my_dict = yaml.safe_load(f)"
   ]
  },
  {
   "cell_type": "code",
   "execution_count": 6,
   "id": "7a8b68db-2edd-4b38-8b49-d6562d4e00b1",
   "metadata": {},
   "outputs": [
    {
     "data": {
      "text/plain": [
       "{'GeoDE': {'task_list': ['task1', 'task2', 'task3', 'task4']},\n",
       " 'AutoArborist': {'task_list': ['Bloomington',\n",
       "   'Buffalo',\n",
       "   'SiouxFalls',\n",
       "   'Vancouver']},\n",
       " 'iWildCam': {'task_list': ['task1', 'task2', 'task3', 'task4']}}"
      ]
     },
     "execution_count": 6,
     "metadata": {},
     "output_type": "execute_result"
    }
   ],
   "source": [
    "my_dict"
   ]
  },
  {
   "cell_type": "code",
   "execution_count": null,
   "id": "1fc4b690-38d7-4769-86a6-9d07d4c7d3df",
   "metadata": {},
   "outputs": [],
   "source": []
  }
 ],
 "metadata": {
  "kernelspec": {
   "display_name": "datacomp",
   "language": "python",
   "name": "datacomp"
  },
  "language_info": {
   "codemirror_mode": {
    "name": "ipython",
    "version": 3
   },
   "file_extension": ".py",
   "mimetype": "text/x-python",
   "name": "python",
   "nbconvert_exporter": "python",
   "pygments_lexer": "ipython3",
   "version": "3.11.9"
  }
 },
 "nbformat": 4,
 "nbformat_minor": 5
}
