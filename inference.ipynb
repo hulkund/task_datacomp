{
 "cells": [
  {
   "cell_type": "code",
   "execution_count": 6,
   "id": "962229d3-ae5d-4132-86cb-51ef17148d8c",
   "metadata": {},
   "outputs": [],
   "source": [
    "import sys\n",
    "sys.path.append('/data/vision/beery/scratch/neha/micromamba/envs/datacomp/lib/python3.11/site-packages')\n",
    "import numpy as np\n",
    "# import pandas as pd\n",
    "import torch\n",
    "import torchvision \n",
    "from transformers import CLIPProcessor, CLIPModel\n",
    "from all_datasets.COOS_dataset import COOSDataset\n",
    "from transformers import AutoImageProcessor, AutoModel,AutoModelForImageClassification\n",
    "from torch.utils.data import DataLoader, Dataset\n",
    "from torch.nn import CrossEntropyLoss\n",
    "import torch.optim as optim\n",
    "import torch.nn as nn\n",
    "from tqdm import tqdm\n",
    "import timm\n",
    "import clip\n",
    "from all_datasets.FMoW_dataset import FMoWDataset"
   ]
  },
  {
   "cell_type": "code",
   "execution_count": 2,
   "id": "a51bc59d-ca09-4acb-b515-f6b94a374b1e",
   "metadata": {},
   "outputs": [],
   "source": [
    "pool_centroids = torch.from_numpy(\n",
    "        torch.load('all_datasets/COOS/centroids/COOS_val1_centroids.npy'))"
   ]
  },
  {
   "cell_type": "code",
   "execution_count": null,
   "id": "443550d7-908a-4fdf-bf72-d0e020b2ad26",
   "metadata": {},
   "outputs": [],
   "source": [
    "pool_centroids.shape"
   ]
  },
  {
   "cell_type": "code",
   "execution_count": null,
   "id": "ccf44b75-9c04-427b-b8f4-aabd39e3ac1f",
   "metadata": {},
   "outputs": [],
   "source": [
    "np.load(npz_file['COOS_val1_centroids/data.pkl'],allow_pickle=True)"
   ]
  },
  {
   "cell_type": "code",
   "execution_count": null,
   "id": "60d77b3d-3731-4c23-8b19-bcd5b11676ac",
   "metadata": {},
   "outputs": [],
   "source": [
    "class_mapping = {0:'Endoplasmic Reticulum',\n",
    "                1:'Inner Mitochondrial Membrane',\n",
    "                2:'Golgi',\n",
    "                3:'Peroxisomes',\n",
    "                4:'Early Endosome',\n",
    "                5:'Cytosol',\n",
    "                6:'Nuclear Envelope'}"
   ]
  },
  {
   "cell_type": "code",
   "execution_count": 12,
   "id": "7e1a6f4b-ad49-4f24-8ef9-97f6394f739b",
   "metadata": {},
   "outputs": [
    {
     "name": "stdout",
     "output_type": "stream",
     "text": [
      "['train_i' 'train_i' 'train_i' ... 'train_i' 'train_i' 'train_i']\n"
     ]
    }
   ],
   "source": [
    "\n",
    "\n",
    "subset_path=\"experiments/FMoW/no_filter/subset.npy\"\n",
    "dataset=FMoWDataset(split='test1',subset_path=subset_path,transform=None)\n",
    "# dataset.data\n",
    "print(np.load(subset_path,allow_pickle=True))\n",
    "# get_features(dataset)"
   ]
  },
  {
   "cell_type": "code",
   "execution_count": 9,
   "id": "ed495923-d8d8-40ab-ad20-176622d99204",
   "metadata": {},
   "outputs": [],
   "source": [
    "# clip_model = CLIPModel.from_pretrained(\"openai/clip-vit-base-patch32\")\n",
    "# processor = CLIPProcessor.from_pretrained(\"openai/clip-vit-base-patch32\")\n",
    "# clip_model.visual_projection = nn.Linear(in_features=clip_model.visual_projection.in_features, out_features=7)\n",
    "\n",
    "# # make sure to use the appropriate image mean, std and interpolation\n",
    "# # of the inference processor\n",
    "# # mean = [0.485, 0.456, 0.406]\n",
    "# # std = [0.229, 0.224, 0.225]\n",
    "# # mean=[0.456]\n",
    "# # std=[0.224]\n",
    "# # preprocess = transforms.Compose([\n",
    "# #           transforms.ToTensor(),\n",
    "# #           transforms.Resize(size=248, max_size=None, antialias=True),#'bicubic'\n",
    "# #           transforms.CenterCrop(size=(224, 224)),\n",
    "# #           transforms.Normalize(mean=torch.tensor([0.4560]), std=torch.tensor([0.2240]))\n",
    "# # ])\n",
    "# # model = timm.create_model('vit_small_patch16_224.dino', pretrained=True)\n",
    "# # model = model.train()\n",
    "# # data_config = timm.data.resolve_model_data_config(model)\n",
    "# dataset = COOSDataset('test1')\n",
    "# train_dataloader = DataLoader(dataset,batch_size=64)\n"
   ]
  },
  {
   "cell_type": "code",
   "execution_count": 1,
   "id": "bc53448c-d02c-4aa3-84fc-e368a0b6bf01",
   "metadata": {},
   "outputs": [],
   "source": []
  },
  {
   "cell_type": "code",
   "execution_count": 41,
   "id": "6f47c180-6e8f-4cd1-984e-95364d0321f1",
   "metadata": {},
   "outputs": [
    {
     "name": "stdout",
     "output_type": "stream",
     "text": [
      "<class 'numpy.ndarray'> (64, 64)\n"
     ]
    },
    {
     "data": {
      "text/plain": [
       "<matplotlib.image.AxesImage at 0x7f9b205fd450>"
      ]
     },
     "execution_count": 41,
     "metadata": {},
     "output_type": "execute_result"
    },
    {
     "data": {
      "image/png": "[encoded data removed]",
      "text/plain": [
       "<Figure size 640x480 with 1 Axes>"
      ]
     },
     "metadata": {},
     "output_type": "display_data"
    }
   ],
   "source": [
    "import matplotlib.pyplot as plt\n",
    "filepath='/data/vision/beery/scratch/neha/task-datacomp/all_datasets/COOS/data/val4_data.h5'\n",
    "data_file=h5py.File(filepath, 'r')\n",
    "image=data_file['data'][0][0,:,:]\n",
    "print(type(image),image.shape)\n",
    "image=Image.fromarray(image)\n",
    "plt.imshow(image)\n",
    "# preprocess(image)"
   ]
  },
  {
   "cell_type": "code",
   "execution_count": 53,
   "id": "5708f255-3e6f-4f2f-aac5-1c02faa75343",
   "metadata": {},
   "outputs": [
    {
     "data": {
      "text/plain": [
       "array(['train_i', 'train_i', 'train_i', ..., 'train_i', 'train_i',\n",
       "       'train_i'], dtype='<U7')"
      ]
     },
     "execution_count": 53,
     "metadata": {},
     "output_type": "execute_result"
    }
   ],
   "source": [
    "np.load('/data/vision/beery/scratch/neha/task-datacomp/experiments/FMoW/clip_score_0.1/subset.npy',allow_pickle=True)"
   ]
  },
  {
   "cell_type": "code",
   "execution_count": 52,
   "id": "5459758d-3520-421f-94d7-cc1fae50f545",
   "metadata": {},
   "outputs": [
    {
     "name": "stderr",
     "output_type": "stream",
     "text": [
      "0it [00:00, ?it/s]\n"
     ]
    },
    {
     "ename": "RuntimeError",
     "evalue": "torch.cat(): expected a non-empty list of Tensors",
     "output_type": "error",
     "traceback": [
      "\u001b[0;31m---------------------------------------------------------------------------\u001b[0m",
      "\u001b[0;31mRuntimeError\u001b[0m                              Traceback (most recent call last)",
      "Cell \u001b[0;32mIn[52], line 42\u001b[0m\n\u001b[1;32m     39\u001b[0m     \u001b[38;5;28;01mreturn\u001b[39;00m torch\u001b[38;5;241m.\u001b[39mcat(all_features)\u001b[38;5;241m.\u001b[39mcpu()\u001b[38;5;241m.\u001b[39mnumpy(), torch\u001b[38;5;241m.\u001b[39mcat(all_labels)\u001b[38;5;241m.\u001b[39mcpu()\u001b[38;5;241m.\u001b[39mnumpy()\n\u001b[1;32m     41\u001b[0m \u001b[38;5;66;03m# Calculate the image features\u001b[39;00m\n\u001b[0;32m---> 42\u001b[0m train_features, train_labels \u001b[38;5;241m=\u001b[39m \u001b[43mget_features\u001b[49m\u001b[43m(\u001b[49m\u001b[43mtrain\u001b[49m\u001b[43m)\u001b[49m\n\u001b[1;32m     43\u001b[0m test_features, test_labels \u001b[38;5;241m=\u001b[39m get_features(test)\n\u001b[1;32m     45\u001b[0m \u001b[38;5;66;03m# Perform logistic regression\u001b[39;00m\n",
      "Cell \u001b[0;32mIn[52], line 39\u001b[0m, in \u001b[0;36mget_features\u001b[0;34m(dataset)\u001b[0m\n\u001b[1;32m     36\u001b[0m         all_features\u001b[38;5;241m.\u001b[39mappend(features)\n\u001b[1;32m     37\u001b[0m         all_labels\u001b[38;5;241m.\u001b[39mappend(labels)\n\u001b[0;32m---> 39\u001b[0m \u001b[38;5;28;01mreturn\u001b[39;00m \u001b[43mtorch\u001b[49m\u001b[38;5;241;43m.\u001b[39;49m\u001b[43mcat\u001b[49m\u001b[43m(\u001b[49m\u001b[43mall_features\u001b[49m\u001b[43m)\u001b[49m\u001b[38;5;241m.\u001b[39mcpu()\u001b[38;5;241m.\u001b[39mnumpy(), torch\u001b[38;5;241m.\u001b[39mcat(all_labels)\u001b[38;5;241m.\u001b[39mcpu()\u001b[38;5;241m.\u001b[39mnumpy()\n",
      "\u001b[0;31mRuntimeError\u001b[0m: torch.cat(): expected a non-empty list of Tensors"
     ]
    }
   ],
   "source": [
    "import os\n",
    "import clip\n",
    "import torch\n",
    "\n",
    "import numpy as np\n",
    "from sklearn.linear_model import LogisticRegression\n",
    "from torch.utils.data import DataLoader\n",
    "from torchvision.datasets import CIFAR100\n",
    "from tqdm import tqdm\n",
    "import h5py\n",
    "from PIL import Image\n",
    "\n",
    "\n",
    "\n",
    "\n",
    "# Load the model\n",
    "device = \"cuda\" if torch.cuda.is_available() else \"cpu\"\n",
    "model, preprocess = clip.load('ViT-B/32', device)\n",
    "\n",
    "\n",
    "train = FMoWDataset('train',transform=preprocess,subset_path='/data/vision/beery/scratch/neha/task-datacomp/experiments/FMoW/clip_score_0.1/subset.npy')\n",
    "test = FMoWDataset('test1',transform=preprocess,subset_path=None)\n",
    "\n",
    "# train = COOSDataset1('train',transform=preprocess)\n",
    "# test = COOSDataset1('test4',transform=preprocess)\n",
    "\n",
    "\n",
    "def get_features(dataset):\n",
    "    all_features = []\n",
    "    all_labels = []\n",
    "    \n",
    "    with torch.no_grad():\n",
    "        for images,_, labels,_ in tqdm(DataLoader(dataset, batch_size=100)):\n",
    "            features = model.encode_image(images.to(device))\n",
    "\n",
    "            all_features.append(features)\n",
    "            all_labels.append(labels)\n",
    "\n",
    "    return torch.cat(all_features).cpu().numpy(), torch.cat(all_labels).cpu().numpy()\n",
    "\n",
    "# Calculate the image features\n",
    "train_features, train_labels = get_features(train)\n",
    "test_features, test_labels = get_features(test)\n",
    "\n",
    "# Perform logistic regression\n",
    "classifier = LogisticRegression(random_state=0, C=0.316, max_iter=1000, verbose=1)\n",
    "classifier.fit(train_features, train_labels)\n",
    "\n",
    "# Evaluate using the logistic regression classifier\n",
    "predictions = classifier.predict(test_features)\n",
    "accuracy = np.mean((test_labels == predictions).astype(float)) * 100.\n",
    "print(f\"Accuracy = {accuracy:.3f}\")"
   ]
  },
  {
   "cell_type": "code",
   "execution_count": null,
   "id": "0c4ed57a-a240-4f51-8a4e-cd5968c9aa43",
   "metadata": {},
   "outputs": [],
   "source": [
    "predicted_labels"
   ]
  },
  {
   "cell_type": "code",
   "execution_count": null,
   "id": "8cb8c0ec-72ed-47af-a498-ba0beb1c9ec8",
   "metadata": {},
   "outputs": [],
   "source": [
    "clip_model(**inputs)"
   ]
  },
  {
   "cell_type": "code",
   "execution_count": null,
   "id": "1c7f3fb8-f63b-4d5f-b0d0-1ebc8dbcfd49",
   "metadata": {},
   "outputs": [],
   "source": []
  }
 ],
 "metadata": {
  "kernelspec": {
   "display_name": "datacomp",
   "language": "python",
   "name": "datacomp"
  },
  "language_info": {
   "codemirror_mode": {
    "name": "ipython",
    "version": 3
   },
   "file_extension": ".py",
   "mimetype": "text/x-python",
   "name": "python",
   "nbconvert_exporter": "python",
   "pygments_lexer": "ipython3",
   "version": "3.10.12"
  }
 },
 "nbformat": 4,
 "nbformat_minor": 5
}
