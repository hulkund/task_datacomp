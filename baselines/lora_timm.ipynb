{
 "cells": [
  {
   "cell_type": "code",
   "execution_count": 7,
   "id": "784e80cd-3d06-4929-8cb1-bbd597951c11",
   "metadata": {},
   "outputs": [],
   "source": [
    "import sys\n",
    "sys.path.append('/data/vision/beery/scratch/neha/micromamba/envs/datacomp/lib/python3.11/site-packages')\n",
    "sys.path.append('/data/vision/beery/scratch/neha/task-datacomp/')\n",
    "\n",
    "from transformers import AutoImageProcessor, AutoModelForImageClassification\n",
    "from all_datasets.COOS_dataset import COOSDataset\n",
    "from all_datasets.FMoW_dataset import FMoWDataset\n",
    "import transformers\n",
    "import timm\n",
    "import torch\n",
    "import peft\n",
    "from transformers import PretrainedConfig\n",
    "from transformers import PreTrainedModel\n",
    "from torch.utils.data import DataLoader\n",
    "from peft import get_peft_model, LoraConfig, PeftModel\n"
   ]
  },
  {
   "cell_type": "code",
   "execution_count": 27,
   "id": "e01c7077-6b87-4751-a70a-51af2109750f",
   "metadata": {},
   "outputs": [],
   "source": [
    "model = timm.create_model('vit_base_patch16_224.augreg2_in21k_ft_in1k', pretrained=True)\n",
    "data_config = timm.data.resolve_model_data_config(model)\n",
    "# transforms = timm.data.create_transform(**data_config, is_training=False)\n",
    "preprocess_train = timm.data.create_transform(**data_config, is_training=True, no_aug=True)\n",
    "preprocess_eval = timm.data.create_transform(**data_config, is_training=False)\n",
    "\n",
    "class ViTConfig(PretrainedConfig):\n",
    "    def __init__(self, **kwargs):\n",
    "        super().__init__(**kwargs)\n",
    "\n",
    "\n",
    "class ViTModel(PreTrainedModel):\n",
    "    config_class = ViTConfig\n",
    "\n",
    "    def __init__(self, model, config):\n",
    "        super().__init__(config)\n",
    "        self.model = model\n",
    "        self.blocks = model.blocks\n",
    "\n",
    "    def forward(self, x):\n",
    "        return self.model(x)"
   ]
  },
  {
   "cell_type": "code",
   "execution_count": 28,
   "id": "c1030cc3-5ef8-4940-9ba9-fbafdde44186",
   "metadata": {},
   "outputs": [],
   "source": [
    "def get_lora_model(model):\n",
    "    config = LoraConfig(\n",
    "        r=8,\n",
    "        lora_alpha=16,\n",
    "        lora_dropout=0.01,\n",
    "        bias='none',\n",
    "        target_modules=['qkv'],\n",
    "        modules_to_save=[\"classifier\"],\n",
    "    )\n",
    "    extractor_model = get_peft_model(ViTModel(model, ViTConfig()), config).to('cuda')\n",
    "    return extractor_model\n",
    "\n",
    "train_ds=FMoWDataset('train',transform=preprocess_train)\n",
    "val_ds=FMoWDataset('test1',transform=preprocess_eval)\n",
    "train_dataloader=DataLoader(train_ds, batch_size=256)\n",
    "val_dataloader=DataLoader(val_ds, batch_size=256)\n",
    "model=get_lora_model(model)"
   ]
  },
  {
   "cell_type": "code",
   "execution_count": 29,
   "id": "992c08f5-dd75-45af-90f1-7313e2772802",
   "metadata": {},
   "outputs": [
    {
     "data": {
      "text/plain": [
       "(tensor([[[-0.0039,  0.4353, -0.1059,  ...,  0.8824,  0.8824,  0.8667],\n",
       "          [ 0.2000,  0.4824,  0.0353,  ...,  0.8667,  0.8431,  0.8510],\n",
       "          [ 0.3333,  0.4275, -0.1843,  ...,  0.8196,  0.8588,  0.7176],\n",
       "          ...,\n",
       "          [-0.4196, -0.3804, -0.4196,  ..., -0.4196, -0.5059, -0.1843],\n",
       "          [-0.4510, -0.4353, -0.4118,  ..., -0.3098, -0.5059, -0.2392],\n",
       "          [-0.4196, -0.4275, -0.3725,  ..., -0.4118, -0.2706, -0.0353]],\n",
       " \n",
       "         [[ 0.1922,  0.7412,  0.0353,  ...,  0.9451,  0.8980,  0.8902],\n",
       "          [ 0.4039,  0.8118,  0.2627,  ...,  0.9059,  0.8667,  0.8902],\n",
       "          [ 0.5294,  0.7098,  0.0196,  ...,  0.8353,  0.8902,  0.7882],\n",
       "          ...,\n",
       "          [-0.0196,  0.0824,  0.0353,  ..., -0.2784, -0.3725, -0.0196],\n",
       "          [-0.0745, -0.0431,  0.0039,  ..., -0.1922, -0.3882, -0.0902],\n",
       "          [-0.0196, -0.0431,  0.0510,  ..., -0.3569, -0.1843,  0.0980]],\n",
       " \n",
       "         [[ 0.2078,  0.8431,  0.0353,  ...,  0.9294,  0.8824,  0.8275],\n",
       "          [ 0.4588,  0.9137,  0.2627,  ...,  0.8824,  0.8196,  0.8118],\n",
       "          [ 0.6000,  0.8275, -0.0118,  ...,  0.7725,  0.7961,  0.6784],\n",
       "          ...,\n",
       "          [-0.0039,  0.0588, -0.0431,  ..., -0.1059, -0.2863,  0.1451],\n",
       "          [-0.1137, -0.1294, -0.1059,  ..., -0.0431, -0.3804,  0.0039],\n",
       "          [-0.0824, -0.1059,  0.0118,  ..., -0.2863, -0.1608,  0.2000]]]),\n",
       " 'satellite image of tunnel_opening taken over Asia, taken on the date 2015-02-20',\n",
       " 57,\n",
       " 'train_0')"
      ]
     },
     "execution_count": 29,
     "metadata": {},
     "output_type": "execute_result"
    }
   ],
   "source": [
    "train_ds[0]"
   ]
  },
  {
   "cell_type": "code",
   "execution_count": 24,
   "id": "c4a29b1e-4d18-408f-8843-348f7d9959f4",
   "metadata": {},
   "outputs": [
    {
     "name": "stderr",
     "output_type": "stream",
     "text": [
      " 11%|█████████████                                                                                                         | 1/9 [00:02<00:21,  2.67s/it]"
     ]
    },
    {
     "name": "stdout",
     "output_type": "stream",
     "text": [
      "[1, 1] loss: 0.015\n"
     ]
    },
    {
     "name": "stderr",
     "output_type": "stream",
     "text": [
      "100%|██████████████████████████████████████████████████████████████████████████████████████████████████████████████████████| 9/9 [00:21<00:00,  2.39s/it]\n",
      " 11%|█████████████                                                                                                         | 1/9 [00:02<00:20,  2.60s/it]"
     ]
    },
    {
     "name": "stdout",
     "output_type": "stream",
     "text": [
      "[2, 1] loss: 0.056\n"
     ]
    },
    {
     "name": "stderr",
     "output_type": "stream",
     "text": [
      "100%|██████████████████████████████████████████████████████████████████████████████████████████████████████████████████████| 9/9 [00:21<00:00,  2.37s/it]\n",
      " 11%|█████████████                                                                                                         | 1/9 [00:02<00:20,  2.61s/it]"
     ]
    },
    {
     "name": "stdout",
     "output_type": "stream",
     "text": [
      "[3, 1] loss: 0.038\n"
     ]
    },
    {
     "name": "stderr",
     "output_type": "stream",
     "text": [
      "100%|██████████████████████████████████████████████████████████████████████████████████████████████████████████████████████| 9/9 [00:21<00:00,  2.37s/it]\n",
      " 11%|█████████████                                                                                                         | 1/9 [00:02<00:20,  2.60s/it]"
     ]
    },
    {
     "name": "stdout",
     "output_type": "stream",
     "text": [
      "[4, 1] loss: 0.020\n"
     ]
    },
    {
     "name": "stderr",
     "output_type": "stream",
     "text": [
      "100%|██████████████████████████████████████████████████████████████████████████████████████████████████████████████████████| 9/9 [00:21<00:00,  2.36s/it]\n",
      " 11%|█████████████                                                                                                         | 1/9 [00:02<00:20,  2.60s/it]"
     ]
    },
    {
     "name": "stdout",
     "output_type": "stream",
     "text": [
      "[5, 1] loss: 0.022\n"
     ]
    },
    {
     "name": "stderr",
     "output_type": "stream",
     "text": [
      "100%|██████████████████████████████████████████████████████████████████████████████████████████████████████████████████████| 9/9 [00:21<00:00,  2.37s/it]\n",
      " 11%|█████████████                                                                                                         | 1/9 [00:02<00:20,  2.60s/it]"
     ]
    },
    {
     "name": "stdout",
     "output_type": "stream",
     "text": [
      "[6, 1] loss: 0.020\n"
     ]
    },
    {
     "name": "stderr",
     "output_type": "stream",
     "text": [
      "100%|██████████████████████████████████████████████████████████████████████████████████████████████████████████████████████| 9/9 [00:21<00:00,  2.37s/it]\n",
      " 11%|█████████████                                                                                                         | 1/9 [00:02<00:20,  2.60s/it]"
     ]
    },
    {
     "name": "stdout",
     "output_type": "stream",
     "text": [
      "[7, 1] loss: 0.019\n"
     ]
    },
    {
     "name": "stderr",
     "output_type": "stream",
     "text": [
      "100%|██████████████████████████████████████████████████████████████████████████████████████████████████████████████████████| 9/9 [00:21<00:00,  2.37s/it]\n",
      " 11%|█████████████                                                                                                         | 1/9 [00:02<00:20,  2.60s/it]"
     ]
    },
    {
     "name": "stdout",
     "output_type": "stream",
     "text": [
      "[8, 1] loss: 0.019\n"
     ]
    },
    {
     "name": "stderr",
     "output_type": "stream",
     "text": [
      "100%|██████████████████████████████████████████████████████████████████████████████████████████████████████████████████████| 9/9 [00:21<00:00,  2.37s/it]\n",
      " 11%|█████████████                                                                                                         | 1/9 [00:02<00:20,  2.59s/it]"
     ]
    },
    {
     "name": "stdout",
     "output_type": "stream",
     "text": [
      "[9, 1] loss: 0.019\n"
     ]
    },
    {
     "name": "stderr",
     "output_type": "stream",
     "text": [
      "100%|██████████████████████████████████████████████████████████████████████████████████████████████████████████████████████| 9/9 [00:21<00:00,  2.37s/it]\n",
      " 11%|█████████████                                                                                                         | 1/9 [00:02<00:21,  2.63s/it]"
     ]
    },
    {
     "name": "stdout",
     "output_type": "stream",
     "text": [
      "[10, 1] loss: 0.019\n"
     ]
    },
    {
     "name": "stderr",
     "output_type": "stream",
     "text": [
      "100%|██████████████████████████████████████████████████████████████████████████████████████████████████████████████████████| 9/9 [00:21<00:00,  2.36s/it]\n"
     ]
    }
   ],
   "source": [
    "import torch.nn as nn\n",
    "import torch.optim as optim\n",
    "from tqdm import tqdm\n",
    "\n",
    "criterion = nn.CrossEntropyLoss()\n",
    "optimizer = optim.Adam(model.parameters(), lr=0.0001)\n",
    "\n",
    "# Training loop\n",
    "num_epochs = 10\n",
    "device='cuda'\n",
    "model.to(device)\n",
    "for epoch in range(num_epochs):\n",
    "    running_loss = 0.0\n",
    "    for i, data in tqdm(enumerate(train_dataloader, 0),total=len(train_dataloader)):\n",
    "        # Get the inputs and labels\n",
    "        inputs, _, labels, _ = data\n",
    "        inputs, labels = inputs.to(device), labels.to(device)\n",
    "\n",
    "        # Zero the parameter gradients\n",
    "        optimizer.zero_grad()\n",
    "\n",
    "        # Forward pass\n",
    "        outputs = model(inputs)\n",
    "        loss = criterion(outputs, labels)\n",
    "\n",
    "        # Backward pass and optimize\n",
    "        loss.backward()\n",
    "        optimizer.step()\n",
    "\n",
    "        # Print statistics\n",
    "        running_loss += loss.item()\n",
    "        if i % 100 == 0:  # Print every 100 mini-batches\n",
    "            print(f\"[{epoch + 1}, {i + 1}] loss: {running_loss / 100:.3f}\")\n",
    "            running_loss = 0.0"
   ]
  },
  {
   "cell_type": "code",
   "execution_count": null,
   "id": "0b9edcc0-6a0f-4614-8a49-73dabb379dc3",
   "metadata": {},
   "outputs": [],
   "source": []
  },
  {
   "cell_type": "code",
   "execution_count": 25,
   "id": "8905e7ba-67c9-4528-be5f-0be1acbc1bc4",
   "metadata": {},
   "outputs": [
    {
     "data": {
      "text/plain": [
       "0.238"
      ]
     },
     "execution_count": 25,
     "metadata": {},
     "output_type": "execute_result"
    }
   ],
   "source": [
    "model.eval()\n",
    "\n",
    "# Example validation data (replace with your actual validation data)\n",
    "correct = 0\n",
    "total = 0\n",
    "with torch.no_grad():\n",
    "    for data in val_dataloader:\n",
    "        images,_, labels,_ = data\n",
    "        images, labels = images.to(device), labels.to(device)\n",
    "        outputs = model(images)\n",
    "        _, predicted = torch.max(outputs.data, 1)\n",
    "        total += labels.size(0)\n",
    "        correct += (predicted == labels).sum().item()\n",
    "correct/total"
   ]
  },
  {
   "cell_type": "code",
   "execution_count": 18,
   "id": "d70518b3-35ed-464e-a11b-2ba672544ef3",
   "metadata": {},
   "outputs": [
    {
     "data": {
      "text/plain": [
       "0.066"
      ]
     },
     "execution_count": 18,
     "metadata": {},
     "output_type": "execute_result"
    }
   ],
   "source": []
  },
  {
   "cell_type": "code",
   "execution_count": null,
   "id": "018cc4c6-c78c-4d3c-a811-95410798cab2",
   "metadata": {},
   "outputs": [],
   "source": []
  }
 ],
 "metadata": {
  "kernelspec": {
   "display_name": "datacomp",
   "language": "python",
   "name": "datacomp"
  },
  "language_info": {
   "codemirror_mode": {
    "name": "ipython",
    "version": 3
   },
   "file_extension": ".py",
   "mimetype": "text/x-python",
   "name": "python",
   "nbconvert_exporter": "python",
   "pygments_lexer": "ipython3",
   "version": "3.11.9"
  }
 },
 "nbformat": 4,
 "nbformat_minor": 5
}
