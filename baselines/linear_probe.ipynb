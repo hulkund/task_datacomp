{
 "cells": [
  {
   "cell_type": "code",
   "execution_count": 2,
   "id": "cca19dab-6404-4ccf-ba0e-8c6a5e446d2b",
   "metadata": {},
   "outputs": [],
   "source": [
    "import numpy as np"
   ]
  },
  {
   "cell_type": "code",
   "execution_count": 20,
   "id": "28968035-3790-4b0a-aaab-a0510f00a0be",
   "metadata": {},
   "outputs": [],
   "source": [
    "embed=np.load('/data/vision/beery/scratch/neha/task-datacomp/all_datasets/FMoW/embeddings/train_image_label_embed.npz')\n",
    "subset=np.load('/data/vision/beery/scratch/neha/task-datacomp/experiments_again/COOS/no_filter/subset.npy',allow_pickle=True)\n",
    "subset1=np.load('/data/vision/beery/scratch/neha/task-datacomp/experiments_again/iWildCam/random_filter_0.5/subset.npy',allow_pickle=True)"
   ]
  },
  {
   "cell_type": "code",
   "execution_count": 27,
   "id": "9582be8d-7392-4f31-906c-c99599f51d59",
   "metadata": {},
   "outputs": [
    {
     "data": {
      "text/plain": [
       "129808"
      ]
     },
     "execution_count": 27,
     "metadata": {},
     "output_type": "execute_result"
    }
   ],
   "source": [
    "embed=np.load('/data/vision/beery/scratch/neha/task-datacomp/all_datasets/iWildCam/embeddings/train_image_label_embed.npz')\n",
    "len(embed['features'])"
   ]
  },
  {
   "cell_type": "code",
   "execution_count": 51,
   "id": "fc9820ef-01dd-4e47-a2fe-c2af642cb7fd",
   "metadata": {},
   "outputs": [
    {
     "name": "stdout",
     "output_type": "stream",
     "text": [
      "subset length: 41456  embed length: 41456\n"
     ]
    }
   ],
   "source": [
    "dataset='COOS'\n",
    "embed=np.load(f'/data/vision/beery/scratch/neha/task-datacomp/all_datasets/{dataset}/embeddings/train_image_label_embed.npz')\n",
    "subset1=np.load(f'/data/vision/beery/scratch/neha/task-datacomp/experiments_again/{dataset}/no_filter/subset.npy',allow_pickle=True)\n",
    "print(\"subset length:\", len(subset1), \" embed length:\", len(embed['features']))"
   ]
  },
  {
   "cell_type": "code",
   "execution_count": 21,
   "id": "56bf68ba-5db8-473d-bbf3-8391f0ba18f3",
   "metadata": {},
   "outputs": [
    {
     "data": {
      "text/plain": [
       "64904"
      ]
     },
     "execution_count": 21,
     "metadata": {},
     "output_type": "execute_result"
    }
   ],
   "source": [
    "len(subset1)"
   ]
  },
  {
   "cell_type": "code",
   "execution_count": 35,
   "id": "9f0aa82d-74d2-4fd7-a241-edc3365ed5c7",
   "metadata": {},
   "outputs": [],
   "source": [
    "mask=np.isin(embed['uids'],subset)\n",
    "features=embed['features'][mask]\n",
    "labels=embed['labels'][mask]"
   ]
  },
  {
   "cell_type": "code",
   "execution_count": 23,
   "id": "3855aa31-a408-4b0e-a3aa-f926596c58cc",
   "metadata": {},
   "outputs": [
    {
     "data": {
      "text/plain": [
       "10606"
      ]
     },
     "execution_count": 23,
     "metadata": {},
     "output_type": "execute_result"
    }
   ],
   "source": [
    "len(features)"
   ]
  },
  {
   "cell_type": "code",
   "execution_count": 24,
   "id": "f589eb9b-92ad-4dce-8564-ba817669cbd3",
   "metadata": {},
   "outputs": [
    {
     "data": {
      "text/plain": [
       "10606"
      ]
     },
     "execution_count": 24,
     "metadata": {},
     "output_type": "execute_result"
    }
   ],
   "source": [
    "len(labels)"
   ]
  },
  {
   "cell_type": "code",
   "execution_count": null,
   "id": "2a45ea2f-6645-4c49-ad04-4abebe413a64",
   "metadata": {},
   "outputs": [],
   "source": []
  }
 ],
 "metadata": {
  "kernelspec": {
   "display_name": "datacomp",
   "language": "python",
   "name": "datacomp"
  },
  "language_info": {
   "codemirror_mode": {
    "name": "ipython",
    "version": 3
   },
   "file_extension": ".py",
   "mimetype": "text/x-python",
   "name": "python",
   "nbconvert_exporter": "python",
   "pygments_lexer": "ipython3",
   "version": "3.11.9"
  }
 },
 "nbformat": 4,
 "nbformat_minor": 5
}
