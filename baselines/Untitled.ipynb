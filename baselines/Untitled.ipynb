{
 "cells": [
  {
   "cell_type": "code",
   "execution_count": 4,
   "id": "e4de158a-9397-48e3-a8ac-87bcfe60e175",
   "metadata": {},
   "outputs": [],
   "source": [
    "\n",
    "from PIL import Image\n",
    "import h5py\n",
    "\n",
    "filepath=\"/data/vision/beery/scratch/neha/task-datacomp/all_datasets/COOS/COOS_train/0/COOSv1cell_22506_nucleus.tif\"\n",
    "\n",
    "\n",
    "# Open the TIFF image\n",
    "tif_image = Image.open(filepath)"
   ]
  },
  {
   "cell_type": "code",
   "execution_count": 19,
   "id": "57b9e149-7e03-4d0f-8f9b-3e65fdd119dd",
   "metadata": {},
   "outputs": [
    {
     "name": "stdout",
     "output_type": "stream",
     "text": [
      "(64, 64)\n"
     ]
    }
   ],
   "source": [
    "archive_name = \"/data/vision/beery/scratch/neha/task-datacomp/all_datasets/COOS/COOS7_train.hdf5\"\n",
    "archive = h5py.File(archive_name, \"r\")\n",
    "print(archive['data'][0][0,:,:].shape)\n",
    "images = Image.fromarray(archive['data'][0][0])"
   ]
  },
  {
   "cell_type": "code",
   "execution_count": 21,
   "id": "fc452fc0-d969-43c2-a53f-374a38fdf63c",
   "metadata": {},
   "outputs": [],
   "source": [
    "images.save('test_img.tif')"
   ]
  },
  {
   "cell_type": "code",
   "execution_count": null,
   "id": "9651544d-8107-431b-b6aa-8725565b06c8",
   "metadata": {},
   "outputs": [],
   "source": []
  }
 ],
 "metadata": {
  "kernelspec": {
   "display_name": "datacomp",
   "language": "python",
   "name": "datacomp"
  },
  "language_info": {
   "codemirror_mode": {
    "name": "ipython",
    "version": 3
   },
   "file_extension": ".py",
   "mimetype": "text/x-python",
   "name": "python",
   "nbconvert_exporter": "python",
   "pygments_lexer": "ipython3",
   "version": "3.10.12"
  }
 },
 "nbformat": 4,
 "nbformat_minor": 5
}
